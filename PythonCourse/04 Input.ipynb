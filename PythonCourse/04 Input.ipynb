{
 "cells": [
  {
   "cell_type": "code",
   "execution_count": 1,
   "id": "93ef0188",
   "metadata": {},
   "outputs": [
    {
     "name": "stdout",
     "output_type": "stream",
     "text": [
      "Buraya birşeyler yaz : Fatih keleş ile python dersleri devam ediyor\n"
     ]
    }
   ],
   "source": [
    "a = input(\"Buraya birşeyler yaz : \")\n",
    "#veri almak için input fonksiyonu kullanılır"
   ]
  },
  {
   "cell_type": "code",
   "execution_count": 2,
   "id": "bfd7f4a7",
   "metadata": {},
   "outputs": [
    {
     "data": {
      "text/plain": [
       "'Fatih keleş ile python dersleri devam ediyor'"
      ]
     },
     "execution_count": 2,
     "metadata": {},
     "output_type": "execute_result"
    }
   ],
   "source": [
    "a"
   ]
  },
  {
   "cell_type": "code",
   "execution_count": 3,
   "id": "5aba53b0",
   "metadata": {},
   "outputs": [
    {
     "name": "stdout",
     "output_type": "stream",
     "text": [
      "Fatih keleş ile python dersleri devam ediyor\n"
     ]
    }
   ],
   "source": [
    "print(a)"
   ]
  },
  {
   "cell_type": "code",
   "execution_count": 4,
   "id": "bcf4d301",
   "metadata": {},
   "outputs": [
    {
     "name": "stdout",
     "output_type": "stream",
     "text": [
      "3 tane sayıyı toplama programı\n",
      "Sayı 1 giriniz : 2\n",
      "Sayı 2 giriniz : 3\n",
      "Sayı 3 giriniz : 5\n",
      "Sayıların toplamı :  235\n"
     ]
    }
   ],
   "source": [
    "print(\"3 tane sayıyı toplama programı\")\n",
    "\n",
    "sayı1 = input(\"Sayı 1 giriniz : \")\n",
    "sayı2 = input(\"Sayı 2 giriniz : \")\n",
    "sayı3 = input(\"Sayı 3 giriniz : \")\n",
    "\n",
    "print(\"Sayıların toplamı : \", sayı1+sayı2+sayı3)\n",
    "\n",
    "# Hiçbir şekilde belirtmediğimiz için string (metinsel değer olarak algıladı)"
   ]
  },
  {
   "cell_type": "code",
   "execution_count": 5,
   "id": "1291b1fa",
   "metadata": {},
   "outputs": [
    {
     "name": "stdout",
     "output_type": "stream",
     "text": [
      "3 tane sayıyı toplama programı\n",
      "Sayı 1 giriniz : fa\n",
      "Sayı 2 giriniz : ti\n",
      "Sayı 3 giriniz : h\n",
      "Sayıların toplamı :  fatih\n"
     ]
    }
   ],
   "source": [
    "print(\"3 tane sayıyı toplama programı\")\n",
    "\n",
    "sayı1 = input(\"Sayı 1 giriniz : \")\n",
    "sayı2 = input(\"Sayı 2 giriniz : \")\n",
    "sayı3 = input(\"Sayı 3 giriniz : \")\n",
    "\n",
    "print(\"Sayıların toplamı : \", sayı1+sayı2+sayı3)"
   ]
  },
  {
   "cell_type": "code",
   "execution_count": 6,
   "id": "f46fc330",
   "metadata": {},
   "outputs": [
    {
     "name": "stdout",
     "output_type": "stream",
     "text": [
      "3 tane sayıyı toplama programı\n",
      "Sayı 1 giriniz : 2\n",
      "Sayı 2 giriniz : 3\n",
      "Sayı 3 giriniz : 5\n",
      "Sayıların toplamı :  10\n"
     ]
    }
   ],
   "source": [
    "print(\"3 tane sayıyı toplama programı\")\n",
    "\n",
    "sayı1 = input(\"Sayı 1 giriniz : \")\n",
    "sayı2 = input(\"Sayı 2 giriniz : \")\n",
    "sayı3 = input(\"Sayı 3 giriniz : \")\n",
    "\n",
    "print(\"Sayıların toplamı : \", int(sayı1)+int(sayı2)+int(sayı3))\n",
    "\n",
    "#Int bir ifade olduğunu belirttiğimiz için sayıları toplayıp out olarak çıkardı"
   ]
  },
  {
   "cell_type": "code",
   "execution_count": null,
   "id": "bef6c217",
   "metadata": {},
   "outputs": [],
   "source": []
  }
 ],
 "metadata": {
  "kernelspec": {
   "display_name": "Python 3 (ipykernel)",
   "language": "python",
   "name": "python3"
  },
  "language_info": {
   "codemirror_mode": {
    "name": "ipython",
    "version": 3
   },
   "file_extension": ".py",
   "mimetype": "text/x-python",
   "name": "python",
   "nbconvert_exporter": "python",
   "pygments_lexer": "ipython3",
   "version": "3.10.5"
  }
 },
 "nbformat": 4,
 "nbformat_minor": 5
}
