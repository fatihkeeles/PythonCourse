{
 "cells": [
  {
   "cell_type": "code",
   "execution_count": 1,
   "id": "57858e60",
   "metadata": {},
   "outputs": [
    {
     "name": "stdout",
     "output_type": "stream",
     "text": [
      "<class 'dict'>\n",
      "<class 'dict'>\n"
     ]
    }
   ],
   "source": [
    "dictionary = {}\n",
    "dictionary_2 = dict()\n",
    "\n",
    "print(type(dictionary))\n",
    "print(type(dictionary_2))"
   ]
  },
  {
   "cell_type": "code",
   "execution_count": 7,
   "id": "7d391933",
   "metadata": {},
   "outputs": [
    {
     "name": "stdout",
     "output_type": "stream",
     "text": [
      "25000\n",
      "35000\n",
      "50000\n"
     ]
    }
   ],
   "source": [
    "wage = {\n",
    "        \"Murat\": 25000,\n",
    "        \"Fatih\": 35000,\n",
    "        \"Selim\": 50000\n",
    "       }\n",
    "\n",
    "print(wage[\"Murat\"])\n",
    "print(wage[\"Fatih\"])\n",
    "print(wage[\"Selim\"])"
   ]
  },
  {
   "cell_type": "code",
   "execution_count": 10,
   "id": "87ba40e5",
   "metadata": {},
   "outputs": [
    {
     "name": "stdout",
     "output_type": "stream",
     "text": [
      "['fatihkls33', 'ipekkls33', 'okankls33']\n",
      "['faikls33', 'dilekkls33']\n"
     ]
    }
   ],
   "source": [
    "members = {\n",
    "            \"Member\": [\"fatihkls33\", \"ipekkls33\", \"okankls33\"],\n",
    "            \"Mod\": [\"faikls33\", \"dilekkls33\"]\n",
    "          }\n",
    "\n",
    "print(members[\"Member\"])\n",
    "print(members[\"Mod\"])"
   ]
  },
  {
   "cell_type": "code",
   "execution_count": 13,
   "id": "2b5d64a8",
   "metadata": {},
   "outputs": [
    {
     "name": "stdout",
     "output_type": "stream",
     "text": [
      "{'Member': ['fatihkls33', 'ipekkls33', 'okankls33'], 'Mod': ['faikls33', 'dilekkls33'], 'Admin': ['fatihkls35, muratsc12']}\n",
      "['fatihkls35, muratsc12']\n"
     ]
    }
   ],
   "source": [
    "members = {\n",
    "            \"Member\": [\"fatihkls33\", \"ipekkls33\", \"okankls33\"],\n",
    "            \"Mod\": [\"faikls33\", \"dilekkls33\"]\n",
    "          }\n",
    "\n",
    "members[\"Admin\"] = [\"fatihkls35, muratsc12\"]\n",
    "\n",
    "print(members)\n",
    "print(members[\"Admin\"])"
   ]
  },
  {
   "cell_type": "code",
   "execution_count": 27,
   "id": "9f5646e7",
   "metadata": {},
   "outputs": [
    {
     "name": "stdout",
     "output_type": "stream",
     "text": [
      "['fatihkls33', 'ipekkls33', 'okankls33', 'cengizhan25']\n",
      "['faikls33']\n"
     ]
    }
   ],
   "source": [
    "members = {\n",
    "            \"Member\": [\"fatihkls33\", \"ipekkls33\", \"okankls33\"],\n",
    "            \"Mod\": [\"faikls33\", \"dilekkls33\"]\n",
    "          }\n",
    "\n",
    "members[\"Member\"].append(\"cengizhan25\")\n",
    "print(members[\"Member\"])\n",
    "\n",
    "members[\"Mod\"].pop()\n",
    "\n",
    "print(members[\"Mod\"])\n"
   ]
  },
  {
   "cell_type": "code",
   "execution_count": null,
   "id": "f191a2bd",
   "metadata": {},
   "outputs": [],
   "source": []
  }
 ],
 "metadata": {
  "kernelspec": {
   "display_name": "Python 3 (ipykernel)",
   "language": "python",
   "name": "python3"
  },
  "language_info": {
   "codemirror_mode": {
    "name": "ipython",
    "version": 3
   },
   "file_extension": ".py",
   "mimetype": "text/x-python",
   "name": "python",
   "nbconvert_exporter": "python",
   "pygments_lexer": "ipython3",
   "version": "3.10.5"
  }
 },
 "nbformat": 4,
 "nbformat_minor": 5
}
