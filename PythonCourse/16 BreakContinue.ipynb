{
 "cells": [
  {
   "cell_type": "code",
   "execution_count": null,
   "id": "d7190233",
   "metadata": {},
   "outputs": [],
   "source": [
    "while True:\n",
    "    sayı = int(input(\"Herhangi bir sayı giriniz çift olmak şartıyla : \"))\n",
    "    \n",
    "    if sayı%2==1:\n",
    "        break\n",
    "    print(\"döngü devam ediyor\")\n",
    "print(\"döngü bitti\")"
   ]
  },
  {
   "cell_type": "code",
   "execution_count": null,
   "id": "dfbaa876",
   "metadata": {},
   "outputs": [
    {
     "name": "stdout",
     "output_type": "stream",
     "text": [
      "çift bir sayı girin tek sayı ekranda gözükmez2\n",
      "2\n",
      "çift bir sayı girin tek sayı ekranda gözükmez4\n",
      "4\n",
      "çift bir sayı girin tek sayı ekranda gözükmez6\n",
      "6\n",
      "çift bir sayı girin tek sayı ekranda gözükmez1\n"
     ]
    }
   ],
   "source": [
    "while True:\n",
    "    sayı = int(input(\"çift bir sayı girin tek sayı ekranda gözükmez\"))\n",
    "    \n",
    "    if sayı%2==1:\n",
    "        continue\n",
    "    print(sayı)\n"
   ]
  },
  {
   "cell_type": "code",
   "execution_count": null,
   "id": "5210e86b",
   "metadata": {},
   "outputs": [],
   "source": []
  }
 ],
 "metadata": {
  "kernelspec": {
   "display_name": "Python 3 (ipykernel)",
   "language": "python",
   "name": "python3"
  },
  "language_info": {
   "codemirror_mode": {
    "name": "ipython",
    "version": 3
   },
   "file_extension": ".py",
   "mimetype": "text/x-python",
   "name": "python",
   "nbconvert_exporter": "python",
   "pygments_lexer": "ipython3",
   "version": "3.10.5"
  }
 },
 "nbformat": 4,
 "nbformat_minor": 5
}
