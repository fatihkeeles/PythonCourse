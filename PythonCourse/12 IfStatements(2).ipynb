{
 "cells": [
  {
   "cell_type": "code",
   "execution_count": 6,
   "id": "d9b008d8",
   "metadata": {},
   "outputs": [
    {
     "name": "stdout",
     "output_type": "stream",
     "text": [
      "How old are u : 19\n",
      "You can enter ! \n"
     ]
    }
   ],
   "source": [
    "age = input(\"How old are u : \")\n",
    "\n",
    "if (age >= \"18\"):\n",
    "    print(\"You can enter ! \")\n",
    "\n",
    "#elif (age < \"18\"):\n",
    "#    print(\"You cannot enter ! \")\n",
    "\n",
    "else:\n",
    "    print(\"You cannot enter ! \")"
   ]
  },
  {
   "cell_type": "code",
   "execution_count": 12,
   "id": "fa3ca840",
   "metadata": {},
   "outputs": [
    {
     "name": "stdout",
     "output_type": "stream",
     "text": [
      "Your Note : 64\n",
      "You stayed ! \n"
     ]
    }
   ],
   "source": [
    "note = input(\"Your Note : \")\n",
    "\n",
    "if (note >= \"90\"):\n",
    "    print(\"You got an A !\")\n",
    "elif (note >= \"80\"):\n",
    "    print(\"You got an B !\")\n",
    "elif (note >= \"65\"):\n",
    "    print(\"You got an c !\")\n",
    "else:\n",
    "    print(\"You stayed ! \")"
   ]
  },
  {
   "cell_type": "code",
   "execution_count": null,
   "id": "d752d375",
   "metadata": {},
   "outputs": [],
   "source": []
  }
 ],
 "metadata": {
  "kernelspec": {
   "display_name": "Python 3 (ipykernel)",
   "language": "python",
   "name": "python3"
  },
  "language_info": {
   "codemirror_mode": {
    "name": "ipython",
    "version": 3
   },
   "file_extension": ".py",
   "mimetype": "text/x-python",
   "name": "python",
   "nbconvert_exporter": "python",
   "pygments_lexer": "ipython3",
   "version": "3.10.5"
  }
 },
 "nbformat": 4,
 "nbformat_minor": 5
}
