{
 "cells": [
  {
   "cell_type": "code",
   "execution_count": 1,
   "id": "46359f87",
   "metadata": {},
   "outputs": [
    {
     "name": "stdout",
     "output_type": "stream",
     "text": [
      "144\n"
     ]
    }
   ],
   "source": [
    "# fonsikyonismi = lambda değişken : işlem\n",
    "\n",
    "kareal = lambda x : x ** 2\n",
    "\n",
    "print(kareal(12))\n"
   ]
  },
  {
   "cell_type": "code",
   "execution_count": 2,
   "id": "04ecf261",
   "metadata": {},
   "outputs": [
    {
     "name": "stdout",
     "output_type": "stream",
     "text": [
      "64\n"
     ]
    }
   ],
   "source": [
    "küpal = lambda x : x ** 3\n",
    "print(küpal(4))"
   ]
  },
  {
   "cell_type": "code",
   "execution_count": 3,
   "id": "7a3c415f",
   "metadata": {},
   "outputs": [
    {
     "name": "stdout",
     "output_type": "stream",
     "text": [
      "28\n"
     ]
    }
   ],
   "source": [
    "topla = lambda x,y : x+y\n",
    "print(topla(15,13))"
   ]
  },
  {
   "cell_type": "code",
   "execution_count": null,
   "id": "2f160d23",
   "metadata": {},
   "outputs": [],
   "source": []
  }
 ],
 "metadata": {
  "kernelspec": {
   "display_name": "Python 3 (ipykernel)",
   "language": "python",
   "name": "python3"
  },
  "language_info": {
   "codemirror_mode": {
    "name": "ipython",
    "version": 3
   },
   "file_extension": ".py",
   "mimetype": "text/x-python",
   "name": "python",
   "nbconvert_exporter": "python",
   "pygments_lexer": "ipython3",
   "version": "3.10.5"
  }
 },
 "nbformat": 4,
 "nbformat_minor": 5
}
