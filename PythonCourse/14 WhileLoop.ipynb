{
 "cells": [
  {
   "cell_type": "code",
   "execution_count": 4,
   "id": "2d01f01c",
   "metadata": {},
   "outputs": [
    {
     "name": "stdout",
     "output_type": "stream",
     "text": [
      "11\n",
      "The loop has begun\n",
      "10\n",
      "The loop has begun\n",
      "9\n",
      "The loop has begun\n",
      "8\n",
      "The loop has begun\n"
     ]
    }
   ],
   "source": [
    "x = 11\n",
    "\n",
    "while (x > 7):\n",
    "    print(x)\n",
    "    print(\"The loop has begun\")\n",
    "    x-=1"
   ]
  },
  {
   "cell_type": "code",
   "execution_count": 21,
   "id": "106d6663",
   "metadata": {},
   "outputs": [
    {
     "name": "stdout",
     "output_type": "stream",
     "text": [
      "2\n",
      "4\n",
      "6\n",
      "8\n",
      "10\n",
      "12\n",
      "14\n",
      "16\n",
      "18\n",
      "20\n",
      "22\n",
      "24\n",
      "26\n",
      "28\n",
      "30\n",
      "32\n",
      "34\n",
      "36\n",
      "38\n",
      "40\n",
      "42\n",
      "44\n",
      "46\n",
      "48\n",
      "50\n"
     ]
    }
   ],
   "source": [
    "sayac = 0\n",
    "while sayac < 50:\n",
    "    sayac += 2\n",
    "    print(sayac)"
   ]
  },
  {
   "cell_type": "code",
   "execution_count": null,
   "id": "1f10ee43",
   "metadata": {},
   "outputs": [],
   "source": []
  }
 ],
 "metadata": {
  "kernelspec": {
   "display_name": "Python 3 (ipykernel)",
   "language": "python",
   "name": "python3"
  },
  "language_info": {
   "codemirror_mode": {
    "name": "ipython",
    "version": 3
   },
   "file_extension": ".py",
   "mimetype": "text/x-python",
   "name": "python",
   "nbconvert_exporter": "python",
   "pygments_lexer": "ipython3",
   "version": "3.10.5"
  }
 },
 "nbformat": 4,
 "nbformat_minor": 5
}
