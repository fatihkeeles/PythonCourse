{
 "cells": [
  {
   "cell_type": "code",
   "execution_count": 1,
   "id": "0400c910",
   "metadata": {},
   "outputs": [],
   "source": [
    "ogrenciler = [\"Metehan\", \"Fatih\", \"Selim\", \"Oguz\", \"Murat\"]"
   ]
  },
  {
   "cell_type": "code",
   "execution_count": 2,
   "id": "8084ad95",
   "metadata": {},
   "outputs": [
    {
     "data": {
      "text/plain": [
       "'Oguz'"
      ]
     },
     "execution_count": 2,
     "metadata": {},
     "output_type": "execute_result"
    }
   ],
   "source": [
    "ogrenciler[3]"
   ]
  },
  {
   "cell_type": "code",
   "execution_count": 3,
   "id": "552fa3aa",
   "metadata": {},
   "outputs": [
    {
     "data": {
      "text/plain": [
       "'Fatih'"
      ]
     },
     "execution_count": 3,
     "metadata": {},
     "output_type": "execute_result"
    }
   ],
   "source": [
    "ogrenciler[1]"
   ]
  },
  {
   "cell_type": "code",
   "execution_count": 4,
   "id": "1b8cf45a",
   "metadata": {},
   "outputs": [
    {
     "data": {
      "text/plain": [
       "'Murat'"
      ]
     },
     "execution_count": 4,
     "metadata": {},
     "output_type": "execute_result"
    }
   ],
   "source": [
    "ogrenciler[-1]"
   ]
  },
  {
   "cell_type": "code",
   "execution_count": 5,
   "id": "56ad5838",
   "metadata": {},
   "outputs": [
    {
     "data": {
      "text/plain": [
       "'Selim'"
      ]
     },
     "execution_count": 5,
     "metadata": {},
     "output_type": "execute_result"
    }
   ],
   "source": [
    "ogrenciler[-3]"
   ]
  },
  {
   "cell_type": "code",
   "execution_count": 6,
   "id": "846d092b",
   "metadata": {},
   "outputs": [
    {
     "data": {
      "text/plain": [
       "['Fatih', 'Selim']"
      ]
     },
     "execution_count": 6,
     "metadata": {},
     "output_type": "execute_result"
    }
   ],
   "source": [
    "ogrenciler[1:3]"
   ]
  },
  {
   "cell_type": "code",
   "execution_count": 7,
   "id": "1f758abd",
   "metadata": {},
   "outputs": [
    {
     "data": {
      "text/plain": [
       "['Metehan', 'Fatih', 'Selim', 'Oguz', 'Murat']"
      ]
     },
     "execution_count": 7,
     "metadata": {},
     "output_type": "execute_result"
    }
   ],
   "source": [
    "ogrenciler[:]"
   ]
  },
  {
   "cell_type": "code",
   "execution_count": 8,
   "id": "67f68799",
   "metadata": {},
   "outputs": [],
   "source": [
    "ogrenciler.append(\"Sezen\")\n",
    "# append ekleme fonksiyonu !"
   ]
  },
  {
   "cell_type": "code",
   "execution_count": 9,
   "id": "bf3abe17",
   "metadata": {},
   "outputs": [
    {
     "name": "stdout",
     "output_type": "stream",
     "text": [
      "['Metehan', 'Fatih', 'Selim', 'Oguz', 'Murat', 'Sezen']\n"
     ]
    }
   ],
   "source": [
    "print(ogrenciler)"
   ]
  },
  {
   "cell_type": "code",
   "execution_count": 10,
   "id": "aaa555f2",
   "metadata": {},
   "outputs": [
    {
     "data": {
      "text/plain": [
       "'Sezen'"
      ]
     },
     "execution_count": 10,
     "metadata": {},
     "output_type": "execute_result"
    }
   ],
   "source": [
    "ogrenciler.pop()\n",
    "\n",
    "# pop silme fonksiyonu"
   ]
  },
  {
   "cell_type": "code",
   "execution_count": 11,
   "id": "38d8ca9a",
   "metadata": {},
   "outputs": [
    {
     "name": "stdout",
     "output_type": "stream",
     "text": [
      "['Metehan', 'Fatih', 'Selim', 'Oguz', 'Murat']\n"
     ]
    }
   ],
   "source": [
    "print(ogrenciler)"
   ]
  },
  {
   "cell_type": "code",
   "execution_count": 12,
   "id": "90438813",
   "metadata": {},
   "outputs": [],
   "source": [
    "sayılar = [\"1\",\"35\",\"23\",\"76\",\"19\",\"25\"]"
   ]
  },
  {
   "cell_type": "code",
   "execution_count": 13,
   "id": "44bb4b31",
   "metadata": {},
   "outputs": [],
   "source": [
    "sayılar.sort()"
   ]
  },
  {
   "cell_type": "code",
   "execution_count": 14,
   "id": "68c30b3f",
   "metadata": {},
   "outputs": [
    {
     "name": "stdout",
     "output_type": "stream",
     "text": [
      "['1', '19', '23', '25', '35', '76']\n"
     ]
    }
   ],
   "source": [
    "print(sayılar)"
   ]
  },
  {
   "cell_type": "code",
   "execution_count": 15,
   "id": "c4f2cebd",
   "metadata": {},
   "outputs": [],
   "source": [
    "sayılar.sort(reverse=True)"
   ]
  },
  {
   "cell_type": "code",
   "execution_count": 16,
   "id": "03946e44",
   "metadata": {},
   "outputs": [
    {
     "name": "stdout",
     "output_type": "stream",
     "text": [
      "['76', '35', '25', '23', '19', '1']\n"
     ]
    }
   ],
   "source": [
    "print(sayılar)"
   ]
  },
  {
   "cell_type": "code",
   "execution_count": 17,
   "id": "a830dbbe",
   "metadata": {},
   "outputs": [
    {
     "name": "stdout",
     "output_type": "stream",
     "text": [
      "['Fatih', 'Metehan', 'Murat', 'Oguz', 'Selim']\n"
     ]
    }
   ],
   "source": [
    "ogrenciler.sort()\n",
    "print(ogrenciler)"
   ]
  },
  {
   "cell_type": "code",
   "execution_count": 18,
   "id": "2016cd14",
   "metadata": {},
   "outputs": [],
   "source": [
    "ogrenciler.sort(reverse=True)"
   ]
  },
  {
   "cell_type": "code",
   "execution_count": 19,
   "id": "55e4208a",
   "metadata": {},
   "outputs": [
    {
     "name": "stdout",
     "output_type": "stream",
     "text": [
      "['Selim', 'Oguz', 'Murat', 'Metehan', 'Fatih']\n"
     ]
    }
   ],
   "source": [
    "print(ogrenciler)"
   ]
  },
  {
   "cell_type": "code",
   "execution_count": null,
   "id": "506e97c9",
   "metadata": {},
   "outputs": [],
   "source": []
  }
 ],
 "metadata": {
  "kernelspec": {
   "display_name": "Python 3 (ipykernel)",
   "language": "python",
   "name": "python3"
  },
  "language_info": {
   "codemirror_mode": {
    "name": "ipython",
    "version": 3
   },
   "file_extension": ".py",
   "mimetype": "text/x-python",
   "name": "python",
   "nbconvert_exporter": "python",
   "pygments_lexer": "ipython3",
   "version": "3.10.5"
  }
 },
 "nbformat": 4,
 "nbformat_minor": 5
}
