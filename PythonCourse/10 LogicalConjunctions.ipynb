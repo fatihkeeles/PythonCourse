{
 "cells": [
  {
   "cell_type": "markdown",
   "id": "aa8ee13a",
   "metadata": {},
   "source": [
    "# and\n",
    "\n",
    "# or"
   ]
  },
  {
   "cell_type": "code",
   "execution_count": 10,
   "id": "86c14331",
   "metadata": {},
   "outputs": [
    {
     "name": "stdout",
     "output_type": "stream",
     "text": [
      "True\n"
     ]
    }
   ],
   "source": [
    "print(5 + 3 == 8 and \"Fatih\" == \"Fatih\") # And bağlacında her iki ifadede doğru olmak zorundadır"
   ]
  },
  {
   "cell_type": "code",
   "execution_count": 12,
   "id": "f98a8813",
   "metadata": {},
   "outputs": [
    {
     "name": "stdout",
     "output_type": "stream",
     "text": [
      "True\n"
     ]
    }
   ],
   "source": [
    "print(10/4 == 12 or \"Keleş\" == \"Keleş\") # or bağlacında her iki ifade veya içlerinden biri doğru olmak zorundadır !"
   ]
  },
  {
   "cell_type": "code",
   "execution_count": 15,
   "id": "9a42a6a4",
   "metadata": {},
   "outputs": [
    {
     "name": "stdout",
     "output_type": "stream",
     "text": [
      "Your Username : FatihKeles\n",
      "Your password : pass12\n",
      "False\n"
     ]
    }
   ],
   "source": [
    "userdata = [\"FatihKeles\", \"pass123\"]\n",
    "\n",
    "username = input(\"Your Username : \")\n",
    "password = input(\"Your password : \")\n",
    "\n",
    "login = userdata[0] == username and userdata[1] == password\n",
    "print(login)"
   ]
  },
  {
   "cell_type": "code",
   "execution_count": 16,
   "id": "5dafbb3f",
   "metadata": {},
   "outputs": [
    {
     "name": "stdout",
     "output_type": "stream",
     "text": [
      "Your Username : FatihKeles\n",
      "Your password : pass123\n",
      "True\n"
     ]
    }
   ],
   "source": [
    "userdata = [\"FatihKeles\", \"pass123\"]\n",
    "\n",
    "username = input(\"Your Username : \")\n",
    "password = input(\"Your password : \")\n",
    "\n",
    "login = userdata[0] == username and userdata[1] == password\n",
    "print(login)"
   ]
  },
  {
   "cell_type": "code",
   "execution_count": 17,
   "id": "f84ca67d",
   "metadata": {},
   "outputs": [
    {
     "name": "stdout",
     "output_type": "stream",
     "text": [
      "Your Username : FatihKeles\n",
      "Your password : asdasdasdasd\n",
      "True\n"
     ]
    }
   ],
   "source": [
    "userdata = [\"FatihKeles\", \"pass123\"]\n",
    "\n",
    "username = input(\"Your Username : \")\n",
    "password = input(\"Your password : \")\n",
    "\n",
    "login = userdata[0] == username or userdata[1] == password\n",
    "print(login)"
   ]
  },
  {
   "cell_type": "code",
   "execution_count": null,
   "id": "8f5f1a0f",
   "metadata": {},
   "outputs": [],
   "source": []
  }
 ],
 "metadata": {
  "kernelspec": {
   "display_name": "Python 3 (ipykernel)",
   "language": "python",
   "name": "python3"
  },
  "language_info": {
   "codemirror_mode": {
    "name": "ipython",
    "version": 3
   },
   "file_extension": ".py",
   "mimetype": "text/x-python",
   "name": "python",
   "nbconvert_exporter": "python",
   "pygments_lexer": "ipython3",
   "version": "3.10.5"
  }
 },
 "nbformat": 4,
 "nbformat_minor": 5
}
