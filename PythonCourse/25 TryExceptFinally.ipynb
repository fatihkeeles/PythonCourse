{
 "cells": [
  {
   "cell_type": "code",
   "execution_count": null,
   "id": "5a1cfe7d",
   "metadata": {},
   "outputs": [],
   "source": [
    "try:\n",
    "    file = open(\"fatihkelespython.rar\",\"r\")\n",
    "except IOError:\n",
    "    print(\"Dosya bulunamadı !\")\n",
    "finally:\n",
    "    exit()\n",
    "    file.close"
   ]
  }
 ],
 "metadata": {
  "kernelspec": {
   "display_name": "Python 3 (ipykernel)",
   "language": "python",
   "name": "python3"
  },
  "language_info": {
   "codemirror_mode": {
    "name": "ipython",
    "version": 3
   },
   "file_extension": ".py",
   "mimetype": "text/x-python",
   "name": "python",
   "nbconvert_exporter": "python",
   "pygments_lexer": "ipython3",
   "version": "3.10.5"
  }
 },
 "nbformat": 4,
 "nbformat_minor": 5
}
