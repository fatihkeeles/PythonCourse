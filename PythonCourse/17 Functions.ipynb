{
 "cells": [
  {
   "cell_type": "code",
   "execution_count": 10,
   "id": "b6ca3929",
   "metadata": {},
   "outputs": [
    {
     "name": "stdout",
     "output_type": "stream",
     "text": [
      "Fatih keleş ile python dersleri devam ediyor\n",
      "Fatih keleş ile python dersleri devam ediyor\n",
      "Fatih keleş ile python dersleri devam ediyor\n",
      "Fatih keleş ile python dersleri devam ediyor\n",
      "Fatih keleş ile python dersleri devam ediyor\n",
      "Fatih keleş ile python dersleri devam ediyor\n",
      "Fatih keleş ile python dersleri devam ediyor\n",
      "Fatih keleş ile python dersleri devam ediyor\n",
      "Fatih keleş ile python dersleri devam ediyor\n",
      "Fatih keleş ile python dersleri devam ediyor\n"
     ]
    }
   ],
   "source": [
    "def first(cümle):\n",
    "    \n",
    "    for i in range(10):\n",
    "        print(cümle)\n",
    "    \n",
    "first(\"Fatih keleş ile python dersleri devam ediyor\")\n"
   ]
  },
  {
   "cell_type": "code",
   "execution_count": 19,
   "id": "a6630163",
   "metadata": {},
   "outputs": [
    {
     "name": "stdout",
     "output_type": "stream",
     "text": [
      "181\n"
     ]
    }
   ],
   "source": [
    "def toplama(sayı1,sayı2):\n",
    "    toplam = (sayı1+sayı2)\n",
    "    print(toplam)\n",
    "toplama(152,29)"
   ]
  },
  {
   "cell_type": "code",
   "execution_count": 21,
   "id": "9163aebf",
   "metadata": {},
   "outputs": [
    {
     "name": "stdout",
     "output_type": "stream",
     "text": [
      "1493\n"
     ]
    }
   ],
   "source": [
    "def cıkarma(sayı1,sayı2):\n",
    "    sonuc = (sayı1-sayı2)\n",
    "    print(sonuc)\n",
    "cıkarma(1522,29)"
   ]
  },
  {
   "cell_type": "code",
   "execution_count": 22,
   "id": "4a42233c",
   "metadata": {},
   "outputs": [
    {
     "name": "stdout",
     "output_type": "stream",
     "text": [
      "44138\n"
     ]
    }
   ],
   "source": [
    "def carpma(sayı1,sayı2):\n",
    "    sonuc = (sayı1*sayı2)\n",
    "    print(sonuc)\n",
    "carpma(1522,29)"
   ]
  },
  {
   "cell_type": "code",
   "execution_count": 23,
   "id": "2c6e56db",
   "metadata": {},
   "outputs": [
    {
     "name": "stdout",
     "output_type": "stream",
     "text": [
      "52\n"
     ]
    }
   ],
   "source": [
    "def bolme(sayı1,sayı2):\n",
    "    sonuc = (sayı1//sayı2)\n",
    "    print(sonuc)\n",
    "bolme(1522,29)"
   ]
  },
  {
   "cell_type": "code",
   "execution_count": 24,
   "id": "c9fe476a",
   "metadata": {},
   "outputs": [
    {
     "name": "stdout",
     "output_type": "stream",
     "text": [
      "49.666666666666664\n"
     ]
    }
   ],
   "source": [
    "def ortalama_hesaplama(sayı1,sayı2,sayı3):\n",
    "    ortalama = (sayı1+sayı2+sayı3) / 3.0\n",
    "    print(ortalama)\n",
    "ortalama_hesaplama(25,35,89)"
   ]
  },
  {
   "cell_type": "code",
   "execution_count": null,
   "id": "22c5d6eb",
   "metadata": {},
   "outputs": [],
   "source": []
  }
 ],
 "metadata": {
  "kernelspec": {
   "display_name": "Python 3 (ipykernel)",
   "language": "python",
   "name": "python3"
  },
  "language_info": {
   "codemirror_mode": {
    "name": "ipython",
    "version": 3
   },
   "file_extension": ".py",
   "mimetype": "text/x-python",
   "name": "python",
   "nbconvert_exporter": "python",
   "pygments_lexer": "ipython3",
   "version": "3.10.5"
  }
 },
 "nbformat": 4,
 "nbformat_minor": 5
}
