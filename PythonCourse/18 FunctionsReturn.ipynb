{
 "cells": [
  {
   "cell_type": "code",
   "execution_count": 25,
   "id": "3a37c598",
   "metadata": {},
   "outputs": [
    {
     "data": {
      "text/plain": [
       "'Fatih Keleş ile python dersleri ! '"
      ]
     },
     "execution_count": 25,
     "metadata": {},
     "output_type": "execute_result"
    }
   ],
   "source": [
    "def rtrn():\n",
    "    return \"Fatih Keleş ile python dersleri ! \"\n",
    "rtrn()"
   ]
  },
  {
   "cell_type": "code",
   "execution_count": 30,
   "id": "af72649a",
   "metadata": {},
   "outputs": [
    {
     "data": {
      "text/plain": [
       "False"
      ]
     },
     "execution_count": 30,
     "metadata": {},
     "output_type": "execute_result"
    }
   ],
   "source": [
    "def cift(sayı):\n",
    "    if sayı % 2 == 0:\n",
    "        return True\n",
    "    else:\n",
    "        return False\n",
    "cift(7)"
   ]
  },
  {
   "cell_type": "code",
   "execution_count": 35,
   "id": "1b983484",
   "metadata": {},
   "outputs": [
    {
     "data": {
      "text/plain": [
       "False"
      ]
     },
     "execution_count": 35,
     "metadata": {},
     "output_type": "execute_result"
    }
   ],
   "source": [
    "def tek(sayı):\n",
    "    if sayı % 2 == 0:\n",
    "        return False\n",
    "    else:\n",
    "        return True\n",
    "tek(18)"
   ]
  },
  {
   "cell_type": "code",
   "execution_count": 56,
   "id": "293d95c7",
   "metadata": {},
   "outputs": [
    {
     "name": "stdout",
     "output_type": "stream",
     "text": [
      "253\n"
     ]
    }
   ],
   "source": [
    "def end(sayi):\n",
    "    \n",
    "    if sayi %2 == 1:                    # 1 + 2 + 3 4 .... + 20\n",
    "        return sayi\n",
    "    else:                               # 1 + 2 + 3 + 4 ..... + 22 = 253\n",
    "        toplam=0\n",
    "        for i in range(1,sayi+1):\n",
    "            toplam += i\n",
    "        return toplam\n",
    "print(last(22))"
   ]
  },
  {
   "cell_type": "code",
   "execution_count": null,
   "id": "288fff76",
   "metadata": {},
   "outputs": [],
   "source": []
  }
 ],
 "metadata": {
  "kernelspec": {
   "display_name": "Python 3 (ipykernel)",
   "language": "python",
   "name": "python3"
  },
  "language_info": {
   "codemirror_mode": {
    "name": "ipython",
    "version": 3
   },
   "file_extension": ".py",
   "mimetype": "text/x-python",
   "name": "python",
   "nbconvert_exporter": "python",
   "pygments_lexer": "ipython3",
   "version": "3.10.5"
  }
 },
 "nbformat": 4,
 "nbformat_minor": 5
}
