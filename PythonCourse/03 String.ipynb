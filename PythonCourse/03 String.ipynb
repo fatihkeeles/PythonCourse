{
 "cells": [
  {
   "cell_type": "code",
   "execution_count": 1,
   "id": "dc20ab08",
   "metadata": {},
   "outputs": [],
   "source": [
    "f = 'fatih keleş'\n",
    "# bu bir string (dize) ifadedir"
   ]
  },
  {
   "cell_type": "code",
   "execution_count": 2,
   "id": "67c65cab",
   "metadata": {},
   "outputs": [
    {
     "data": {
      "text/plain": [
       "'fatih keleş'"
      ]
     },
     "execution_count": 2,
     "metadata": {},
     "output_type": "execute_result"
    }
   ],
   "source": [
    "f"
   ]
  },
  {
   "cell_type": "code",
   "execution_count": 3,
   "id": "ba7e9722",
   "metadata": {},
   "outputs": [
    {
     "name": "stdout",
     "output_type": "stream",
     "text": [
      "fatih keleş\n"
     ]
    }
   ],
   "source": [
    "print(f)"
   ]
  },
  {
   "cell_type": "code",
   "execution_count": 4,
   "id": "5be234c2",
   "metadata": {},
   "outputs": [
    {
     "data": {
      "text/plain": [
       "'f'"
      ]
     },
     "execution_count": 4,
     "metadata": {},
     "output_type": "execute_result"
    }
   ],
   "source": [
    "f[0]\n",
    "#indexte değer 0 dan başlar ve devam eder !"
   ]
  },
  {
   "cell_type": "code",
   "execution_count": 5,
   "id": "9c14796c",
   "metadata": {},
   "outputs": [
    {
     "data": {
      "text/plain": [
       "'a'"
      ]
     },
     "execution_count": 5,
     "metadata": {},
     "output_type": "execute_result"
    }
   ],
   "source": [
    "f[1]"
   ]
  },
  {
   "cell_type": "code",
   "execution_count": 6,
   "id": "06cc35f9",
   "metadata": {},
   "outputs": [
    {
     "data": {
      "text/plain": [
       "'t'"
      ]
     },
     "execution_count": 6,
     "metadata": {},
     "output_type": "execute_result"
    }
   ],
   "source": [
    "f[2]"
   ]
  },
  {
   "cell_type": "code",
   "execution_count": 7,
   "id": "ab5217dd",
   "metadata": {},
   "outputs": [
    {
     "data": {
      "text/plain": [
       "'ati'"
      ]
     },
     "execution_count": 7,
     "metadata": {},
     "output_type": "execute_result"
    }
   ],
   "source": [
    "f[1:4]"
   ]
  },
  {
   "cell_type": "code",
   "execution_count": 8,
   "id": "af47faf5",
   "metadata": {},
   "outputs": [
    {
     "data": {
      "text/plain": [
       "'ş'"
      ]
     },
     "execution_count": 8,
     "metadata": {},
     "output_type": "execute_result"
    }
   ],
   "source": [
    "f[-1]"
   ]
  },
  {
   "cell_type": "code",
   "execution_count": 9,
   "id": "fd31414b",
   "metadata": {},
   "outputs": [
    {
     "data": {
      "text/plain": [
       "''"
      ]
     },
     "execution_count": 9,
     "metadata": {},
     "output_type": "execute_result"
    }
   ],
   "source": [
    "f[-1:-4]"
   ]
  },
  {
   "cell_type": "code",
   "execution_count": 10,
   "id": "ab0e7e9c",
   "metadata": {},
   "outputs": [
    {
     "data": {
      "text/plain": [
       "''"
      ]
     },
     "execution_count": 10,
     "metadata": {},
     "output_type": "execute_result"
    }
   ],
   "source": [
    "f[-1:-2]"
   ]
  },
  {
   "cell_type": "code",
   "execution_count": 11,
   "id": "1c4cec3b",
   "metadata": {},
   "outputs": [],
   "source": [
    "ax = 'fatih keleş ile python derslerine hoşgeldiniz'"
   ]
  },
  {
   "cell_type": "code",
   "execution_count": 12,
   "id": "b00b5e96",
   "metadata": {},
   "outputs": [
    {
     "data": {
      "text/plain": [
       "'atih kele'"
      ]
     },
     "execution_count": 12,
     "metadata": {},
     "output_type": "execute_result"
    }
   ],
   "source": [
    "ax[1:10]"
   ]
  },
  {
   "cell_type": "code",
   "execution_count": 13,
   "id": "1522bec0",
   "metadata": {},
   "outputs": [
    {
     "data": {
      "text/plain": [
       "45"
      ]
     },
     "execution_count": 13,
     "metadata": {},
     "output_type": "execute_result"
    }
   ],
   "source": [
    "len(ax)\n",
    "#len uzunluk değer alma veri ifadesidir"
   ]
  },
  {
   "cell_type": "code",
   "execution_count": 14,
   "id": "05af3787",
   "metadata": {},
   "outputs": [
    {
     "data": {
      "text/plain": [
       "11"
      ]
     },
     "execution_count": 14,
     "metadata": {},
     "output_type": "execute_result"
    }
   ],
   "source": [
    "len(f)"
   ]
  },
  {
   "cell_type": "code",
   "execution_count": null,
   "id": "6e2d6b22",
   "metadata": {},
   "outputs": [],
   "source": []
  }
 ],
 "metadata": {
  "kernelspec": {
   "display_name": "Python 3 (ipykernel)",
   "language": "python",
   "name": "python3"
  },
  "language_info": {
   "codemirror_mode": {
    "name": "ipython",
    "version": 3
   },
   "file_extension": ".py",
   "mimetype": "text/x-python",
   "name": "python",
   "nbconvert_exporter": "python",
   "pygments_lexer": "ipython3",
   "version": "3.10.5"
  }
 },
 "nbformat": 4,
 "nbformat_minor": 5
}
