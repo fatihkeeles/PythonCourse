{
 "cells": [
  {
   "cell_type": "code",
   "execution_count": 1,
   "id": "78bb038b",
   "metadata": {},
   "outputs": [],
   "source": [
    "a = list()\n",
    "b = []"
   ]
  },
  {
   "cell_type": "code",
   "execution_count": 2,
   "id": "85d6de9f",
   "metadata": {},
   "outputs": [
    {
     "data": {
      "text/plain": [
       "list"
      ]
     },
     "execution_count": 2,
     "metadata": {},
     "output_type": "execute_result"
    }
   ],
   "source": [
    "type(a)"
   ]
  },
  {
   "cell_type": "code",
   "execution_count": 3,
   "id": "85252088",
   "metadata": {},
   "outputs": [
    {
     "data": {
      "text/plain": [
       "list"
      ]
     },
     "execution_count": 3,
     "metadata": {},
     "output_type": "execute_result"
    }
   ],
   "source": [
    "type(b)"
   ]
  },
  {
   "cell_type": "code",
   "execution_count": 4,
   "id": "8f6560e4",
   "metadata": {},
   "outputs": [],
   "source": [
    "ogrenciler = [\"Melike\", \"Murat\", \"Fatih\", \"Ece\", \"Kenan\", \"Okan\"]\n",
    "#Listeleme burada başlıyor"
   ]
  },
  {
   "cell_type": "code",
   "execution_count": 5,
   "id": "e1338235",
   "metadata": {},
   "outputs": [
    {
     "data": {
      "text/plain": [
       "'Melike'"
      ]
     },
     "execution_count": 5,
     "metadata": {},
     "output_type": "execute_result"
    }
   ],
   "source": [
    "ogrenciler[0]"
   ]
  },
  {
   "cell_type": "code",
   "execution_count": 6,
   "id": "a928746d",
   "metadata": {},
   "outputs": [
    {
     "name": "stdout",
     "output_type": "stream",
     "text": [
      "Melike\n"
     ]
    }
   ],
   "source": [
    "print(ogrenciler[0])\n",
    "# 0 index değerine sahip öğrenci verisi çekildi"
   ]
  },
  {
   "cell_type": "code",
   "execution_count": 7,
   "id": "09143aba",
   "metadata": {},
   "outputs": [
    {
     "data": {
      "text/plain": [
       "['Melike', 'Murat', 'Fatih']"
      ]
     },
     "execution_count": 7,
     "metadata": {},
     "output_type": "execute_result"
    }
   ],
   "source": [
    "ogrenciler[:3]\n",
    "# en baştan 3.index değerine kadar olan öğrenci verileri çekildi"
   ]
  },
  {
   "cell_type": "code",
   "execution_count": 8,
   "id": "18e65cff",
   "metadata": {},
   "outputs": [
    {
     "data": {
      "text/plain": [
       "'Okan'"
      ]
     },
     "execution_count": 8,
     "metadata": {},
     "output_type": "execute_result"
    }
   ],
   "source": [
    "ogrenciler[-1]"
   ]
  },
  {
   "cell_type": "code",
   "execution_count": 9,
   "id": "f1f4de03",
   "metadata": {},
   "outputs": [],
   "source": [
    "ogrenciler.remove(\"Murat\")\n",
    "# remove kullnarak lisetemizden öğrenci sildik"
   ]
  },
  {
   "cell_type": "code",
   "execution_count": 10,
   "id": "07005a63",
   "metadata": {},
   "outputs": [
    {
     "name": "stdout",
     "output_type": "stream",
     "text": [
      "['Melike', 'Fatih', 'Ece', 'Kenan', 'Okan']\n"
     ]
    }
   ],
   "source": [
    "print(ogrenciler)"
   ]
  },
  {
   "cell_type": "code",
   "execution_count": 11,
   "id": "4fda110d",
   "metadata": {},
   "outputs": [
    {
     "name": "stdout",
     "output_type": "stream",
     "text": [
      "5\n"
     ]
    }
   ],
   "source": [
    "print(len(ogrenciler))\n",
    "\n",
    "# yeni öğrenci listemizdeki kişi sayılarını öğrencik"
   ]
  },
  {
   "cell_type": "code",
   "execution_count": 12,
   "id": "7cc4644d",
   "metadata": {},
   "outputs": [
    {
     "name": "stdout",
     "output_type": "stream",
     "text": [
      "Melike\n",
      "Fatih\n",
      "Ece\n",
      "Kenan\n",
      "Okan\n"
     ]
    }
   ],
   "source": [
    "for ogrenci in ogrenciler:\n",
    "    print(ogrenci)\n",
    "    \n",
    "    # yeni listemizi ekranda sıraladık !"
   ]
  },
  {
   "cell_type": "code",
   "execution_count": null,
   "id": "cccd5793",
   "metadata": {},
   "outputs": [],
   "source": []
  }
 ],
 "metadata": {
  "kernelspec": {
   "display_name": "Python 3 (ipykernel)",
   "language": "python",
   "name": "python3"
  },
  "language_info": {
   "codemirror_mode": {
    "name": "ipython",
    "version": 3
   },
   "file_extension": ".py",
   "mimetype": "text/x-python",
   "name": "python",
   "nbconvert_exporter": "python",
   "pygments_lexer": "ipython3",
   "version": "3.10.5"
  }
 },
 "nbformat": 4,
 "nbformat_minor": 5
}
