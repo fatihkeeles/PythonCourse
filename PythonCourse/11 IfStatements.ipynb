{
 "cells": [
  {
   "cell_type": "markdown",
   "id": "10eaa6ce",
   "metadata": {},
   "source": [
    "# IF , ELIF VE ELSE YAPISI"
   ]
  },
  {
   "cell_type": "code",
   "execution_count": 3,
   "id": "bb10f4af",
   "metadata": {},
   "outputs": [
    {
     "name": "stdout",
     "output_type": "stream",
     "text": [
      "8 greater than 5\n"
     ]
    }
   ],
   "source": [
    "if 8 > 5:\n",
    "    print(\"8 greater than 5\")\n",
    "    "
   ]
  },
  {
   "cell_type": "code",
   "execution_count": 10,
   "id": "97165ca3",
   "metadata": {},
   "outputs": [
    {
     "name": "stdout",
     "output_type": "stream",
     "text": [
      "x is y\n"
     ]
    }
   ],
   "source": [
    "x = 10\n",
    "y = 10\n",
    "\n",
    "if x > y:\n",
    "    print(\"x greater than y\")\n",
    "\n",
    "elif x == y:\n",
    "    print(\"x is y\")\n",
    "    \n",
    "else:\n",
    "    print(\"y greatar than x\")"
   ]
  },
  {
   "cell_type": "code",
   "execution_count": null,
   "id": "61902ebd",
   "metadata": {},
   "outputs": [],
   "source": []
  }
 ],
 "metadata": {
  "kernelspec": {
   "display_name": "Python 3 (ipykernel)",
   "language": "python",
   "name": "python3"
  },
  "language_info": {
   "codemirror_mode": {
    "name": "ipython",
    "version": 3
   },
   "file_extension": ".py",
   "mimetype": "text/x-python",
   "name": "python",
   "nbconvert_exporter": "python",
   "pygments_lexer": "ipython3",
   "version": "3.10.5"
  }
 },
 "nbformat": 4,
 "nbformat_minor": 5
}
