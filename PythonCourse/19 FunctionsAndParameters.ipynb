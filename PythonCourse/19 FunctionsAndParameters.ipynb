{
 "cells": [
  {
   "cell_type": "code",
   "execution_count": 28,
   "id": "dd905465",
   "metadata": {},
   "outputs": [
    {
     "data": {
      "text/plain": [
       "19"
      ]
     },
     "execution_count": 28,
     "metadata": {},
     "output_type": "execute_result"
    }
   ],
   "source": [
    "def kucuksayi(x,y):\n",
    "    if x < y:\n",
    "        return x\n",
    "    elif y < x:\n",
    "        return y\n",
    "    return y\n",
    "kucuksayi(35,19)"
   ]
  },
  {
   "cell_type": "code",
   "execution_count": 29,
   "id": "770e4006",
   "metadata": {},
   "outputs": [
    {
     "name": "stdout",
     "output_type": "stream",
     "text": [
      "19\n"
     ]
    }
   ],
   "source": [
    "print(min(35,19))"
   ]
  },
  {
   "cell_type": "code",
   "execution_count": 36,
   "id": "cd060e34",
   "metadata": {},
   "outputs": [
    {
     "data": {
      "text/plain": [
       "209"
      ]
     },
     "execution_count": 36,
     "metadata": {},
     "output_type": "execute_result"
    }
   ],
   "source": [
    "def sayılarıntoplamı(*sayilar):\n",
    "    toplam = 0\n",
    "    for sayi in sayilar:\n",
    "        toplam += sayi\n",
    "    return toplam\n",
    "sayılarıntoplamı(15,29,38,83,44)"
   ]
  },
  {
   "cell_type": "code",
   "execution_count": 37,
   "id": "49459d7a",
   "metadata": {},
   "outputs": [
    {
     "data": {
      "text/plain": [
       "209"
      ]
     },
     "execution_count": 37,
     "metadata": {},
     "output_type": "execute_result"
    }
   ],
   "source": [
    "def sayılarıntoplamı(*sayilar):\n",
    "  return sum(sayilar)\n",
    "sayılarıntoplamı(15,29,38,83,44)"
   ]
  },
  {
   "cell_type": "code",
   "execution_count": 47,
   "id": "cdc78e5e",
   "metadata": {},
   "outputs": [
    {
     "data": {
      "text/plain": [
       "169"
      ]
     },
     "execution_count": 47,
     "metadata": {},
     "output_type": "execute_result"
    }
   ],
   "source": [
    "def sayininkuvveti(sayi,kuvvet=2):\n",
    "    return sayi ** kuvvet\n",
    "sayininkuvveti(13)"
   ]
  },
  {
   "cell_type": "code",
   "execution_count": 50,
   "id": "a2abd9cf",
   "metadata": {},
   "outputs": [
    {
     "name": "stdout",
     "output_type": "stream",
     "text": [
      "Fatih Keleş\n",
      "şehir Mersin\n"
     ]
    }
   ],
   "source": [
    "def sozluk(**icreik):\n",
    "    for anahtar,deger in icreik.items():\n",
    "        print(anahtar,deger)\n",
    "sozluk(Fatih = \"Keleş\", şehir = \"Mersin\")"
   ]
  },
  {
   "cell_type": "code",
   "execution_count": null,
   "id": "fed0426d",
   "metadata": {},
   "outputs": [],
   "source": []
  }
 ],
 "metadata": {
  "kernelspec": {
   "display_name": "Python 3 (ipykernel)",
   "language": "python",
   "name": "python3"
  },
  "language_info": {
   "codemirror_mode": {
    "name": "ipython",
    "version": 3
   },
   "file_extension": ".py",
   "mimetype": "text/x-python",
   "name": "python",
   "nbconvert_exporter": "python",
   "pygments_lexer": "ipython3",
   "version": "3.10.5"
  }
 },
 "nbformat": 4,
 "nbformat_minor": 5
}
